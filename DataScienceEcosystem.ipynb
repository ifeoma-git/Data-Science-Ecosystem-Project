{
  "metadata": {
    "language_info": {
      "codemirror_mode": {
        "name": "python",
        "version": 3
      },
      "file_extension": ".py",
      "mimetype": "text/x-python",
      "name": "python",
      "nbconvert_exporter": "python",
      "pygments_lexer": "ipython3",
      "version": "3.8"
    },
    "kernelspec": {
      "name": "python",
      "display_name": "Python (Pyodide)",
      "language": "python"
    }
  },
  "nbformat_minor": 4,
  "nbformat": 4,
  "cells": [
    {
      "cell_type": "markdown",
      "source": "# Data Science Tools And Ecosystem",
      "metadata": {}
    },
    {
      "cell_type": "markdown",
      "source": "#### Data Science isn't new, but the demand for quality data has exploded recently. This isn't a fad or a rebranding, it's an evolution. In this notebook, Data Science tools and ecosystem are summarized.",
      "metadata": {}
    },
    {
      "cell_type": "markdown",
      "source": "**OBJECTIVES**\n- Popular language for Data Science\n- Commonly used libraries used by Data Scientist\n- Data Science Tools\n- Evaluating Arithmetic Expressions",
      "metadata": {}
    },
    {
      "cell_type": "markdown",
      "source": "Some of the popular languages that Data scientist use are:\n1. Python Language\n2. R-Language\n3. Julia Language\n4. Scala Language\n5. Java Language",
      "metadata": {}
    },
    {
      "cell_type": "markdown",
      "source": "Some of the commonly used libraries used by Data Scientist includes:\n1. TensorFlow\n2. NumPy\n3. Pandas\n4. PyTorch\n5. SciKit Learn",
      "metadata": {}
    },
    {
      "cell_type": "markdown",
      "source": "| Data Science Tools |\n| ------------------ |\n| Python |\n| TensorFlow |\n| Apache Spark|\n",
      "metadata": {}
    },
    {
      "cell_type": "markdown",
      "source": "### Below Are Few Examples Of Evaluating Arithmetic Expressions In Python",
      "metadata": {}
    },
    {
      "cell_type": "code",
      "source": "# This is a simple arithmetic expression to multiply then add integers\n(3*4)+5",
      "metadata": {
        "trusted": true
      },
      "execution_count": 1,
      "outputs": [
        {
          "execution_count": 1,
          "output_type": "execute_result",
          "data": {
            "text/plain": "17"
          },
          "metadata": {}
        }
      ]
    },
    {
      "cell_type": "code",
      "source": "# This expression will convert 200 minutes to hours by dividing by 60\n200/60",
      "metadata": {
        "trusted": true
      },
      "execution_count": 2,
      "outputs": [
        {
          "execution_count": 2,
          "output_type": "execute_result",
          "data": {
            "text/plain": "3.3333333333333335"
          },
          "metadata": {}
        }
      ]
    },
    {
      "cell_type": "markdown",
      "source": "## AUTHOR\nIFEOMA PEACE NWANKWO",
      "metadata": {}
    },
    {
      "cell_type": "markdown",
      "source": "",
      "metadata": {}
    }
  ]
}